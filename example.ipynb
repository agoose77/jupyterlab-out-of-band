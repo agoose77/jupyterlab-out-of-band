{
 "cells": [
  {
   "cell_type": "code",
   "execution_count": 1,
   "id": "b529fa55-0b0d-4ccb-8379-7300fd8e1fbe",
   "metadata": {},
   "outputs": [],
   "source": [
    "from IPython.display import display, Image\n",
    "from IPython.utils.capture import capture_output\n",
    "import hashlib\n",
    "import json"
   ]
  },
  {
   "cell_type": "markdown",
   "id": "e4a1938c-2f7b-4a3e-9c54-c25ea3e82b3f",
   "metadata": {},
   "source": [
    "Create a \"heavy\" MIME bundle"
   ]
  },
  {
   "cell_type": "code",
   "execution_count": 2,
   "id": "8d90855d-8196-45a9-a0e3-1a23b6767251",
   "metadata": {},
   "outputs": [],
   "source": [
    "with capture_output() as captured:\n",
    "    display(\n",
    "        Image(\"https://cdn.curvenote.com/0191bd75-1494-72f5-b48a-a0aaad296e4c/public/21f8f79cc1d584b9e372b7a92cde564f.png\")\n",
    "    )"
   ]
  },
  {
   "cell_type": "code",
   "execution_count": 3,
   "id": "b583bcf9-2000-4cc4-992c-76282b239aea",
   "metadata": {},
   "outputs": [],
   "source": [
    "output = captured.outputs[0]"
   ]
  },
  {
   "cell_type": "code",
   "execution_count": 4,
   "id": "1cec5b7a-c963-4c2f-8362-f99454fc75cc",
   "metadata": {},
   "outputs": [],
   "source": [
    "raw_mime = output.data\n",
    "preferred_mime_type, data = next(((k, v) for k, v in raw_mime.items() if k.startswith(\"image\")))\n",
    "hash_ = hashlib.sha256(json.dumps(data).encode()).hexdigest()"
   ]
  },
  {
   "cell_type": "markdown",
   "id": "80b1cd86-844f-40e6-9edd-e3cdd36e82dd",
   "metadata": {},
   "source": [
    "Write heavy MIME bundle to disk"
   ]
  },
  {
   "cell_type": "code",
   "execution_count": 5,
   "id": "c1958cf1-020a-425c-924c-8060a24a059d",
   "metadata": {},
   "outputs": [],
   "source": [
    "!mkdir -p mime"
   ]
  },
  {
   "cell_type": "code",
   "execution_count": 6,
   "id": "0faca2a0-5eb5-4452-a7ce-8cc8a023e321",
   "metadata": {},
   "outputs": [],
   "source": [
    "with open(f\"mime/{hash_}.json\", \"w\") as f:\n",
    "    json.dump(raw_mime, f)"
   ]
  },
  {
   "cell_type": "markdown",
   "id": "5f084a1e-1d90-4b91-b409-407647c202ed",
   "metadata": {},
   "source": [
    "Create a \"lightweight\" placeholder MIME bundle"
   ]
  },
  {
   "cell_type": "code",
   "execution_count": 7,
   "id": "c91e21d7-d889-4288-ac4e-6a8a27f1b5c8",
   "metadata": {},
   "outputs": [],
   "source": [
    "nbtx_mime = {\n",
    "    \"application/vnd.nbtx.output+json\": {\n",
    "        \"hash\": hash_,\n",
    "        \"mimeTypes\": raw_mime.keys()\n",
    "    }\n",
    "}"
   ]
  },
  {
   "cell_type": "code",
   "execution_count": 8,
   "id": "b86472b9-a956-41cf-b159-eaed7e1abd1f",
   "metadata": {},
   "outputs": [
    {
     "data": {
      "application/vnd.nbtx.output+json": {
       "hash": "f804ba1c4aeb32b8c55b45e11ec9f1305b880b8275dd765731e31490b375717d",
       "mimeTypes": [
        "image/png",
        "text/plain"
       ]
      }
     },
     "metadata": {},
     "output_type": "display_data"
    }
   ],
   "source": [
    "display(nbtx_mime, metadata=output.metadata, raw=True)"
   ]
  }
 ],
 "metadata": {
  "kernelspec": {
   "display_name": "Python 3 (ipykernel)",
   "language": "python",
   "name": "python3"
  },
  "language_info": {
   "codemirror_mode": {
    "name": "ipython",
    "version": 3
   },
   "file_extension": ".py",
   "mimetype": "text/x-python",
   "name": "python",
   "nbconvert_exporter": "python",
   "pygments_lexer": "ipython3",
   "version": "3.11.7"
  }
 },
 "nbformat": 4,
 "nbformat_minor": 5
}
